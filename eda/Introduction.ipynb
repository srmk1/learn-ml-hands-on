{
 "cells": [
  {
   "cell_type": "markdown",
   "metadata": {},
   "source": [
    "# Exploratory Data Analysis (EDA)"
   ]
  },
  {
   "cell_type": "markdown",
   "metadata": {},
   "source": [
    "Exploratory Data Analysis refers to the critical process of performing initial investigations on data so as to: \n",
    "- discover patterns\n",
    "- spot anomalies\n",
    "- test hypothesis and \n",
    "- to check assumptions \n",
    "with the help of summary statistics and graphical representations.\n",
    "\n",
    "Wikipedia definition of EDA:\n",
    "\"Procedures for analyzing data, techniques for interpreting the results of such procedures, ways of planning the gathering of data to make its analysis easier, more precise or more accurate, and all the machinery and results of (mathematical) statistics which apply to analyzing data.\"\n",
    "\n",
    "![](eda.png)"
   ]
  },
  {
   "cell_type": "markdown",
   "metadata": {},
   "source": [
    "Exploratory Data Analysis typically has following different phases:\n",
    "- __EDA Data Schema__: Typically big ML projects will have data from multiple different desparate sources. Critical first step is to put all the data together (integration) and deciding on common data schema\n",
    "- __EDA Data Statistics__: Once you have a data-set, you first look at some statistics about the data and use visualisation tools to understand different data statistics"
   ]
  },
  {
   "cell_type": "markdown",
   "metadata": {},
   "source": [
    "## Techniques that can be used in EDA\n",
    "There are a number of tools that are useful for EDA, but EDA is characterized more by the attitude taken than by particular techniques.[7]\n",
    "\n",
    "Typical graphical techniques used in EDA are:\n",
    "- Box plot\n",
    "- Histogram\n",
    "- Multi-vari chart\n",
    "- Run chart\n",
    "- Pareto chart\n",
    "- Scatter plot\n",
    "- Stem-and-leaf plot\n",
    "- Parallel coordinates\n",
    "- Odds ratio\n",
    "- Targeted projection pursuit\n",
    "- Glyph-based visualization methods such as PhenoPlot[8] and Chernoff faces\n",
    "- Projection methods such as grand tour, guided tour and manual tour\n",
    "- Interactive versions of these plots\n",
    "\n",
    "Dimensionality reduction:\n",
    "- Multidimensional scaling\n",
    "- Principal component analysis (PCA)\n",
    "- Multilinear PCA\n",
    "- Nonlinear dimensionality reduction (NLDR)\n",
    "\n",
    "Typical quantitative techniques are:\n",
    "- Median polish\n",
    "- Trimean\n",
    "- Ordination"
   ]
  },
  {
   "cell_type": "code",
   "execution_count": null,
   "metadata": {},
   "outputs": [],
   "source": []
  }
 ],
 "metadata": {
  "kernelspec": {
   "display_name": "Python 3",
   "language": "python",
   "name": "python3"
  },
  "language_info": {
   "codemirror_mode": {
    "name": "ipython",
    "version": 3
   },
   "file_extension": ".py",
   "mimetype": "text/x-python",
   "name": "python",
   "nbconvert_exporter": "python",
   "pygments_lexer": "ipython3",
   "version": "3.7.0"
  }
 },
 "nbformat": 4,
 "nbformat_minor": 4
}
