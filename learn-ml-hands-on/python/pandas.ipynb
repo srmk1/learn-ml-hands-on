{
 "cells": [
  {
   "cell_type": "markdown",
   "metadata": {},
   "source": [
    "# PANDAS\n",
    "\n",
    "At the core of pandas are 3 data-structures:\n",
    "- Series\n",
    "- DataFrames\n",
    "- Panel\n",
    "\n",
    "![](../data-csv/media-pics-videos/pandas-data-structure.png)\n",
    "\n",
    "![](../data-csv/media-pics-videos/pandas-data-structure1.png)"
   ]
  },
  {
   "cell_type": "markdown",
   "metadata": {},
   "source": [
    "# Series\n",
    "\n",
    "A SERIES IS USED TO MODEL ONE DIMENSIONAL DATA, SIMILAR TO A LIST IN Python. The Series object also has a few more bits of data, including an index and a name. A common idea through pandas is the notion of an axis. Because a series is one dimensional, it has a single axis—the index."
   ]
  },
  {
   "cell_type": "code",
   "execution_count": 2,
   "metadata": {},
   "outputs": [],
   "source": [
    "#First step is to import pandas\n",
    "import pandas as pd"
   ]
  },
  {
   "cell_type": "code",
   "execution_count": 3,
   "metadata": {},
   "outputs": [
    {
     "data": {
      "text/plain": [
       "0    39\n",
       "1    45\n",
       "2    48\n",
       "3    49\n",
       "4    42\n",
       "Name: share-price, dtype: int64"
      ]
     },
     "execution_count": 3,
     "metadata": {},
     "output_type": "execute_result"
    }
   ],
   "source": [
    "#Create a series\n",
    "cisco_weekly_share_price = pd.Series([39, 45, 48, 49, 42], name=\"share-price\")\n",
    "cisco_weekly_share_price\n",
    "# Left most column is called Index (or axis). 0,1,2..etc are index-labels or axis-labels. \n",
    "# Dataframe will have 2-axis, one for column and one for row\n",
    "# Right column is the data/values\n",
    "# Last line prints name of series and data-type"
   ]
  },
  {
   "cell_type": "code",
   "execution_count": null,
   "metadata": {},
   "outputs": [],
   "source": [
    "# Get the data-type of the series\n",
    "cisco_weekly_share_price.dtypes"
   ]
  },
  {
   "cell_type": "code",
   "execution_count": null,
   "metadata": {},
   "outputs": [],
   "source": [
    "# Get the dimension of the series\n",
    "cisco_weekly_share_price.shape"
   ]
  },
  {
   "cell_type": "code",
   "execution_count": null,
   "metadata": {},
   "outputs": [],
   "source": [
    "# Get the first five elements of the series\n",
    "cisco_weekly_share_price.head"
   ]
  },
  {
   "cell_type": "code",
   "execution_count": 4,
   "metadata": {},
   "outputs": [
    {
     "data": {
      "text/plain": [
       "<bound method NDFrame.tail of 0    39\n",
       "1    45\n",
       "2    48\n",
       "3    49\n",
       "4    42\n",
       "Name: share-price, dtype: int64>"
      ]
     },
     "execution_count": 4,
     "metadata": {},
     "output_type": "execute_result"
    }
   ],
   "source": [
    "# Get the last five elements of the series\n",
    "cisco_weekly_share_price.tail"
   ]
  },
  {
   "cell_type": "markdown",
   "metadata": {},
   "source": [
    "### Index of the series\n",
    "* The default values for an index are linearly incrementing integers starting from 0\n",
    "* We can over-ride default index by specifying \"index\" parameter\n",
    "* \"index\" needs not be always interger, it can be of any type (including strings)"
   ]
  },
  {
   "cell_type": "code",
   "execution_count": 5,
   "metadata": {},
   "outputs": [
    {
     "data": {
      "text/plain": [
       "RangeIndex(start=0, stop=5, step=1)"
      ]
     },
     "execution_count": 5,
     "metadata": {},
     "output_type": "execute_result"
    }
   ],
   "source": [
    "# Inspect the index of the series\n",
    "# The default values for an index are linearly incrementing integers\n",
    "cisco_weekly_share_price.index"
   ]
  },
  {
   "cell_type": "code",
   "execution_count": 8,
   "metadata": {},
   "outputs": [
    {
     "data": {
      "text/plain": [
       "4"
      ]
     },
     "execution_count": 8,
     "metadata": {},
     "output_type": "execute_result"
    }
   ],
   "source": [
    "# Index last element of the series\n",
    "cisco_weekly_share_price.index[-1]"
   ]
  },
  {
   "cell_type": "code",
   "execution_count": 9,
   "metadata": {},
   "outputs": [
    {
     "data": {
      "text/plain": [
       "Index(['week3', 'week1', 'week4', 'week2', 'week5'], dtype='object')"
      ]
     },
     "execution_count": 9,
     "metadata": {},
     "output_type": "execute_result"
    }
   ],
   "source": [
    "# Index can string also\n",
    "cisco_weekly_share_price = pd.Series([39, 45, 48, 49, 42], name=\"share-price\", \n",
    "                                     index=['week3','week1','week4','week2','week5'])\n",
    "cisco_weekly_share_price.index"
   ]
  },
  {
   "cell_type": "code",
   "execution_count": 10,
   "metadata": {},
   "outputs": [
    {
     "data": {
      "text/plain": [
       "48"
      ]
     },
     "execution_count": 10,
     "metadata": {},
     "output_type": "execute_result"
    }
   ],
   "source": [
    "# Index the string\n",
    "cisco_weekly_share_price['week4']"
   ]
  },
  {
   "cell_type": "markdown",
   "metadata": {},
   "source": [
    "### Data/values in the series\n",
    "* Values column needs not be homogenous, it can be mixture of data-types. In that case dtype will be object(string)"
   ]
  },
  {
   "cell_type": "code",
   "execution_count": null,
   "metadata": {},
   "outputs": [],
   "source": [
    "cricketer_details = pd.Series(['Sachin','Tendulkar',46,100],name=\"details\",\n",
    "                             index=['First Name','Last Name','Age','No of centuries'])\n",
    "cricketer_details"
   ]
  },
  {
   "cell_type": "markdown",
   "metadata": {},
   "source": [
    "### CRUD of series"
   ]
  },
  {
   "cell_type": "markdown",
   "metadata": {},
   "source": [
    "#### Creating series using lists and dictionaries\n",
    "- Lists can be used to init series\n",
    "- Dictionaries can be used to init series"
   ]
  },
  {
   "cell_type": "code",
   "execution_count": null,
   "metadata": {},
   "outputs": [],
   "source": [
    "cricketer_details = pd.Series(['Sachin','Tendulkar',46,100],name=\"details\",\n",
    "                             index=['First Name','Last Name','Age','No of centuries'])\n",
    "cricketer_details"
   ]
  },
  {
   "cell_type": "code",
   "execution_count": null,
   "metadata": {},
   "outputs": [],
   "source": [
    "cricketer_details = pd.Series({'First Name':'Sachin','Last Name': 'Tendulkar', 'Age':46, 'No of centuries':100},name=\"details\",\n",
    "                             index=['First Name','Last Name','Age','No of centuries'])\n",
    "cricketer_details"
   ]
  },
  {
   "cell_type": "markdown",
   "metadata": {},
   "source": [
    "#### Reading from Series\n",
    "- Use index directly\n",
    "- Use iterator and iterate through Series in a for loop\n",
    "- Use Series.index and Series.values to iterate through index and data respectively\n",
    "- Use Series.index and Series.values in logical expressions"
   ]
  },
  {
   "cell_type": "code",
   "execution_count": null,
   "metadata": {},
   "outputs": [],
   "source": [
    "# Use index directly\n",
    "cricketer_details['First Name']"
   ]
  },
  {
   "cell_type": "code",
   "execution_count": null,
   "metadata": {},
   "outputs": [],
   "source": [
    "# Iterate over all the entries in the series\n",
    "for item in cricketer_details.values:\n",
    "    print(item)"
   ]
  },
  {
   "cell_type": "code",
   "execution_count": null,
   "metadata": {},
   "outputs": [],
   "source": [
    "# Iterate over all the indices in the series\n",
    "for item in cricketer_details.index:\n",
    "    print(item)"
   ]
  },
  {
   "cell_type": "code",
   "execution_count": null,
   "metadata": {},
   "outputs": [],
   "source": [
    "# Logical expressions using Series\n",
    "'Sachin' in cricketer_details.values"
   ]
  },
  {
   "cell_type": "code",
   "execution_count": null,
   "metadata": {},
   "outputs": [],
   "source": [
    "# Logical expressions using Series\n",
    "'First Name' in cricketer_details.index"
   ]
  },
  {
   "cell_type": "code",
   "execution_count": null,
   "metadata": {},
   "outputs": [],
   "source": [
    "for item in cricketer_details.iteritems():\n",
    "    print(item)"
   ]
  },
  {
   "cell_type": "markdown",
   "metadata": {},
   "source": [
    "#### Updating Series data\n",
    "- If the index is existant, value is updated in-place for that index\n",
    "- If the index is non-existant, value is appended to the series with new index\n",
    "- If the index has multiple-indices, all values are updated\n",
    "- To update an item based on the location use .iloc\n",
    "- The series object has a .set_value method that will both add a new item to the existing series and return a series"
   ]
  },
  {
   "cell_type": "code",
   "execution_count": null,
   "metadata": {},
   "outputs": [],
   "source": [
    "# To update a value for a given index label, \n",
    "# the standard index assignment operation works and performs the update in-place\n",
    "cricketer_details['No of centuries'] = 101\n",
    "cricketer_details"
   ]
  },
  {
   "cell_type": "code",
   "execution_count": null,
   "metadata": {},
   "outputs": [],
   "source": [
    "# The index assignment operation also works to add a new index and a value.\n",
    "cricketer_details['No of ODI'] = 350\n",
    "cricketer_details"
   ]
  },
  {
   "cell_type": "code",
   "execution_count": null,
   "metadata": {},
   "outputs": [],
   "source": [
    "#  To update values based purely on position, perform an index assignment of the .iloc attribute\n",
    "cricketer_details.iloc[0] = 'Sachin T'\n",
    "cricketer_details"
   ]
  },
  {
   "cell_type": "markdown",
   "metadata": {},
   "source": [
    "#### Deletion\n",
    "Deletion is not common in the pandas world. It is more common to use filters or masks to create a new series that has only the items that you want. However, if you really want to remove entries, you can delete based on index entries."
   ]
  },
  {
   "cell_type": "code",
   "execution_count": null,
   "metadata": {},
   "outputs": [],
   "source": [
    "# Delete an item using index\n",
    "del cricketer_details['No of ODI']\n",
    "cricketer_details"
   ]
  },
  {
   "cell_type": "markdown",
   "metadata": {},
   "source": [
    "## Series Indexing"
   ]
  },
  {
   "cell_type": "code",
   "execution_count": null,
   "metadata": {},
   "outputs": [],
   "source": [
    "#Read the CSV file from the district-wise-education data for India\n",
    "df = pd.read_csv(\"../data-csv/csv-files/2015_16_Districtwise.csv\")"
   ]
  },
  {
   "cell_type": "code",
   "execution_count": null,
   "metadata": {},
   "outputs": [],
   "source": [
    "#Read the first few rows of the dataframe\n",
    "df.head()"
   ]
  },
  {
   "cell_type": "code",
   "execution_count": null,
   "metadata": {},
   "outputs": [],
   "source": [
    "#Read the last few rows of the dataframe\n",
    "df.tail()"
   ]
  },
  {
   "cell_type": "code",
   "execution_count": null,
   "metadata": {},
   "outputs": [],
   "source": [
    "#Shape api will list the number of rows and columns\n",
    "df.shape"
   ]
  },
  {
   "cell_type": "code",
   "execution_count": null,
   "metadata": {},
   "outputs": [],
   "source": [
    "#Print the data-types of different column\n",
    "df.dtypes"
   ]
  },
  {
   "cell_type": "code",
   "execution_count": null,
   "metadata": {},
   "outputs": [],
   "source": [
    "#Print the data-type of a particular column\n",
    "print(df.dtypes['STATNAME'])"
   ]
  },
  {
   "cell_type": "code",
   "execution_count": null,
   "metadata": {},
   "outputs": [],
   "source": [
    "#List the columns in the table\n",
    "list(df.columns)"
   ]
  },
  {
   "cell_type": "code",
   "execution_count": null,
   "metadata": {},
   "outputs": [],
   "source": [
    "df.info()"
   ]
  },
  {
   "cell_type": "code",
   "execution_count": null,
   "metadata": {},
   "outputs": [],
   "source": [
    "#Extract only a particular column from the dataframe using column name\n",
    "df_districts = df['DISTNAME']\n",
    "print(df_districts)"
   ]
  },
  {
   "cell_type": "code",
   "execution_count": null,
   "metadata": {},
   "outputs": [],
   "source": [
    "#Extract first column from the dataframe using iloc\n",
    "#The iloc indexer syntax is data.iloc[<row selection>, <column selection>]\n",
    "df_row0 = df.iloc[:,0] # first column of data frame\n",
    "print(df_row0)"
   ]
  },
  {
   "cell_type": "code",
   "execution_count": null,
   "metadata": {},
   "outputs": [],
   "source": [
    "#Extract last column from the dataframe using iloc\n",
    "df_last_row = df.iloc[:,-1] # first column of data frame\n",
    "print(df_last_row)"
   ]
  },
  {
   "cell_type": "code",
   "execution_count": null,
   "metadata": {},
   "outputs": [],
   "source": [
    "#Extract second row from the dataframe\n",
    "df_row2 = df.iloc[1]\n",
    "print(df_row1)"
   ]
  },
  {
   "cell_type": "code",
   "execution_count": null,
   "metadata": {},
   "outputs": [],
   "source": [
    "#Extract first five rows of the dataframe\n",
    "df_five_rows = df.iloc[1:5]\n",
    "print(df_five_rows)"
   ]
  },
  {
   "cell_type": "code",
   "execution_count": null,
   "metadata": {},
   "outputs": [],
   "source": [
    "#Extract first five rows and five columns of the dataframe\n",
    "df_five_rows_columns = df.iloc[1:5, 1:5]\n",
    "print(df_five_rows_columns)"
   ]
  },
  {
   "cell_type": "code",
   "execution_count": null,
   "metadata": {},
   "outputs": [],
   "source": [
    "#Extract first five rows and selective columns of the dataframe\n",
    "df_five_rows_columns = df.iloc[1:5, [1,4,5]]\n",
    "print(df_five_rows_columns)"
   ]
  },
  {
   "cell_type": "code",
   "execution_count": null,
   "metadata": {},
   "outputs": [],
   "source": [
    "#Convert dataframe into multi-dimesional array\n",
    "df.iloc[1:5,1:].values"
   ]
  },
  {
   "cell_type": "code",
   "execution_count": null,
   "metadata": {},
   "outputs": [],
   "source": [
    "#Count the number of rows particular value occurs inte the data-frame\n",
    "df['STATNAME'].value_counts()"
   ]
  },
  {
   "cell_type": "code",
   "execution_count": null,
   "metadata": {},
   "outputs": [],
   "source": [
    "#Select rows which has number of villages > 1500\n",
    "df[df['VILLAGES'] > 1500]"
   ]
  },
  {
   "cell_type": "code",
   "execution_count": null,
   "metadata": {},
   "outputs": [],
   "source": [
    "#Install lxml to parse html tables\n",
    "#!type python\n",
    "#!type -a pip\n",
    "#!pip3 install lxml"
   ]
  },
  {
   "cell_type": "code",
   "execution_count": null,
   "metadata": {},
   "outputs": [],
   "source": [
    "#Read cisco share price history table from wikipedia URL\n",
    "\n",
    "#lxml is needed by read_html api, hence need to import it\n",
    "import lxml\n",
    "\n",
    "#URL for wikipedia link\n",
    "url_cisco = 'https://en.wikipedia.org/wiki/Cisco_Systems'\n",
    "\n",
    "#pandas.read_html table reads all the tables in URL specified\n",
    "#which has match-string specified by match\n",
    "#If there are multiple table, it will be read into a list of data-frames\n",
    "df_cisco = pd.read_html(url_cisco, match='Employees', header=0)"
   ]
  },
  {
   "cell_type": "code",
   "execution_count": null,
   "metadata": {},
   "outputs": [],
   "source": [
    "#Since read_html returns list of data-frames\n",
    "#Get the first table into a data-frame\n",
    "df_cisco_history = df_cisco[0]"
   ]
  },
  {
   "cell_type": "code",
   "execution_count": null,
   "metadata": {},
   "outputs": [],
   "source": [
    "#print first five rows\n",
    "df_cisco_history.head()"
   ]
  },
  {
   "cell_type": "code",
   "execution_count": null,
   "metadata": {},
   "outputs": [],
   "source": [
    "#print yearwise cisco share-price\n",
    "df_cisco_history.iloc[:,[0,4]]"
   ]
  },
  {
   "cell_type": "code",
   "execution_count": null,
   "metadata": {},
   "outputs": [],
   "source": [
    "#URL for wikipedia link\n",
    "url_cisco = 'https://finance.yahoo.com/quote/CSCO/history?period1=1425081600&period2=1582848000&interval=1d&filter=history&frequency=1d'\n",
    "df_cisco_daily = pd.read_html(url_cisco, match='Volume', header=0)\n",
    "df_cisco_daily[0].head()"
   ]
  },
  {
   "cell_type": "markdown",
   "metadata": {},
   "source": [
    "## Plots using dataframes"
   ]
  },
  {
   "cell_type": "code",
   "execution_count": null,
   "metadata": {},
   "outputs": [],
   "source": []
  }
 ],
 "metadata": {
  "kernelspec": {
   "display_name": "Python 3",
   "language": "python",
   "name": "python3"
  },
  "language_info": {
   "codemirror_mode": {
    "name": "ipython",
    "version": 3
   },
   "file_extension": ".py",
   "mimetype": "text/x-python",
   "name": "python",
   "nbconvert_exporter": "python",
   "pygments_lexer": "ipython3",
   "version": "3.7.0"
  }
 },
 "nbformat": 4,
 "nbformat_minor": 4
}
