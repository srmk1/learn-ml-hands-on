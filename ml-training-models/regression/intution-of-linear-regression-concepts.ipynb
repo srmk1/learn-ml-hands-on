{
 "cells": [
  {
   "cell_type": "markdown",
   "metadata": {},
   "source": [
    "# Concepts in Linear regression"
   ]
  },
  {
   "cell_type": "markdown",
   "metadata": {},
   "source": [
    "## Equation of straight line\n",
    "* y = mx + c\n",
    "  * m = coefficient\n",
    "  * c = intercept"
   ]
  },
  {
   "cell_type": "markdown",
   "metadata": {},
   "source": [
    "## Sum of sqaured residuals\n",
    "\n",
    "* Residual: is the y-distance between the data-point and the line of reference\n",
    "* Sum of sqaured residuals: \n",
    "    * Calculate the residual for each data-point (b/w data-point and line of reference)\n",
    "    * Do a summation of square of all residual values\n",
    "    * This is called Sum of sqaured residuals\n",
    "* Because for best-fit line, we expect to have minimum distance between line and data-points, it is also called a \"Least Squared\" line\n",
    "\n",
    "![](../../data-csv/media-pics-videos/fitting-line-to-data.png)"
   ]
  },
  {
   "cell_type": "markdown",
   "metadata": {},
   "source": [
    "## Fitting line to data\n",
    "\n",
    "* Plot all the (x,y) points on the graph\n",
    "* Calculate average of all y-values and draw a horizontal line with y-avarage value\n",
    "* Calculate sum of square between each of y-values and average-y-value \n",
    "\n",
    "![](../../data-csv/media-pics-videos/fitting-line-to-data.png)\n",
    "\n",
    "* Rotate the horizontal little bit (i.e. use a different coefficient and intercept value for line), calculate the sum of residual squares\n",
    "* Repeating rotating line little by little and calculate sum of residual squares\n",
    "* A line with least sum of residual sqaures is the best fit line\n",
    "\n",
    "![](../../data-csv/media-pics-videos/fitting-line-to-data.png)\n",
    "\n",
    "##### Intuition (important concepts):\n",
    "* Minimize the square of the distance between the observed values and the line\n",
    "* We achieve above by taking the derivative and finding where it is equal to 0"
   ]
  },
  {
   "cell_type": "markdown",
   "metadata": {},
   "source": [
    "## Understanding Variance and Bias\n",
    "[Bias and Variance](https://www.youtube.com/watch?v=EuBBz3bI-aA&list=LLT1g3B7bNm6XT23N-D0CN3Q&index=5&t=269s)"
   ]
  },
  {
   "cell_type": "markdown",
   "metadata": {},
   "source": [
    "## Understanding R2\n",
    "\n",
    "* R2 is defined as\n",
    "  * (variance of mean-line) - (variance of fit-line) / (variance of mean-line)\n",
    "* Variance = mean of sum of squares b/w data-points and line\n",
    "\n",
    "![](../../data-csv/media-pics-videos/r2.png)\n",
    "\n",
    "For example:\n",
    "\n",
    "![](../../data-csv/media-pics-videos/r2-1.png)"
   ]
  },
  {
   "cell_type": "code",
   "execution_count": null,
   "metadata": {},
   "outputs": [],
   "source": []
  }
 ],
 "metadata": {
  "kernelspec": {
   "display_name": "Python 3",
   "language": "python",
   "name": "python3"
  },
  "language_info": {
   "codemirror_mode": {
    "name": "ipython",
    "version": 3
   },
   "file_extension": ".py",
   "mimetype": "text/x-python",
   "name": "python",
   "nbconvert_exporter": "python",
   "pygments_lexer": "ipython3",
   "version": "3.7.0"
  }
 },
 "nbformat": 4,
 "nbformat_minor": 4
}
