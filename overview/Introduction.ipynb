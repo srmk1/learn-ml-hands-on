{
 "cells": [
  {
   "cell_type": "markdown",
   "metadata": {},
   "source": [
    "# Machine Learning"
   ]
  },
  {
   "cell_type": "markdown",
   "metadata": {},
   "source": [
    "## Typical ML Workflow\n",
    "\n",
    "A machine learning workflow produces a machine learning model for a given business problem. ML workflow involves:\n",
    "- Preparing data for feature engineering and model training\n",
    "- Checking the model performance through model evlauation\n",
    "\n",
    "ML workflow is an iterative process where we move in between data prepartion, feature engineering, model selection, model traning, model evaluation and then back to data prepartion.\n",
    "\n",
    "ML usually sets out to solve a business problem. Business problem needs to be well understood and it can represented in terms of ML problem. A given business problem can boil down to multiple ML problems. Success of ML model depends on quality of data avaliable of model training, model evaluation process. High quality data is fundamental requirement for Machine learning.\n",
    "- __Data collection__: is one of the very first steps data engineering. Data is usually collected from multiple sources.\n",
    "- __Data Integration__: Since data collected from different sources usually have different data schemas, integrating data and coming up with common data schema is a very critical step of the ML workflow\n",
    "- __Data Sampling__: Data is required to train the model as well as to evaluate the ML model. Data Sampling ensure representative data is present in both training and evaluation data set.\n",
    "- __Data Labeling__: For Supervisor learning, labeling data is a very important step. The reality is, labeling isn't easy.... but labels are the gold standard from which a machine learning algorithm learns.\n",
    "- __Data preparation__: Data preparation step prepares the step for further steps of exploratory data analysis and feature engineering. Tools used for EDA/Feature-engineering expects data to be in specific formats for it be useful, preparation is a very important and critical step to ensure all avaliable data and much more is fed into these stages in required format\n",
    "- __Exploratory Data Analysis__: This step analyses the data using varous tool (especially visualisation tool) to get know a lot about the data we are having. This is the step where we will get to know in and out of the data we are having. We will get a sense of the format of the data we are having: missing values, correlation between different features/labels, data transformation required. We will get an idea whether more data is required for the next step of feature engineering or avaliable data is sufficient\n",
    "- __Feature engineering__:\n",
    "- __Model Selection__:\n",
    "- __Model Training__:\n",
    "- __Model Evaluation__:\n",
    "\n",
    "![](typical-ml-workflow.png)\n"
   ]
  },
  {
   "cell_type": "code",
   "execution_count": null,
   "metadata": {},
   "outputs": [],
   "source": []
  }
 ],
 "metadata": {
  "kernelspec": {
   "display_name": "Python 3",
   "language": "python",
   "name": "python3"
  },
  "language_info": {
   "codemirror_mode": {
    "name": "ipython",
    "version": 3
   },
   "file_extension": ".py",
   "mimetype": "text/x-python",
   "name": "python",
   "nbconvert_exporter": "python",
   "pygments_lexer": "ipython3",
   "version": "3.7.0"
  }
 },
 "nbformat": 4,
 "nbformat_minor": 4
}
