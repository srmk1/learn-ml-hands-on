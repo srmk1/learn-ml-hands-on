{
 "cells": [
  {
   "cell_type": "code",
   "execution_count": 4,
   "metadata": {},
   "outputs": [],
   "source": [
    "#First step is to import pandas\n",
    "import pandas as pd"
   ]
  },
  {
   "cell_type": "code",
   "execution_count": 5,
   "metadata": {},
   "outputs": [],
   "source": [
    "#Read the CSV file from the district-wise-education data for India\n",
    "df = pd.read_csv(\"2015_16_Districtwise.csv\")"
   ]
  },
  {
   "cell_type": "code",
   "execution_count": 6,
   "metadata": {},
   "outputs": [
    {
     "data": {
      "text/html": [
       "<div>\n",
       "<style scoped>\n",
       "    .dataframe tbody tr th:only-of-type {\n",
       "        vertical-align: middle;\n",
       "    }\n",
       "\n",
       "    .dataframe tbody tr th {\n",
       "        vertical-align: top;\n",
       "    }\n",
       "\n",
       "    .dataframe thead th {\n",
       "        text-align: right;\n",
       "    }\n",
       "</style>\n",
       "<table border=\"1\" class=\"dataframe\">\n",
       "  <thead>\n",
       "    <tr style=\"text-align: right;\">\n",
       "      <th></th>\n",
       "      <th>AC_YEAR</th>\n",
       "      <th>STATCD</th>\n",
       "      <th>DISTCD</th>\n",
       "      <th>STATNAME</th>\n",
       "      <th>DISTNAME</th>\n",
       "      <th>DISTRICTS</th>\n",
       "      <th>BLOCKS</th>\n",
       "      <th>VILLAGES</th>\n",
       "      <th>CLUSTERS</th>\n",
       "      <th>TOTPOPULAT</th>\n",
       "      <th>...</th>\n",
       "      <th>UUNI_ALL</th>\n",
       "      <th>UUNI_SC</th>\n",
       "      <th>UUNI_ST</th>\n",
       "      <th>TOTCLS1G</th>\n",
       "      <th>TOTCLS2G</th>\n",
       "      <th>TOTCLS3G</th>\n",
       "      <th>TOTCLS4G</th>\n",
       "      <th>TOTCLS5G</th>\n",
       "      <th>TOTCLS6G</th>\n",
       "      <th>TOTCLS7G</th>\n",
       "    </tr>\n",
       "  </thead>\n",
       "  <tbody>\n",
       "    <tr>\n",
       "      <th>0</th>\n",
       "      <td>2015-16</td>\n",
       "      <td>1</td>\n",
       "      <td>101</td>\n",
       "      <td>JAMMU &amp; KASHMIR</td>\n",
       "      <td>KUPWARA</td>\n",
       "      <td>1</td>\n",
       "      <td>13</td>\n",
       "      <td>391</td>\n",
       "      <td>104</td>\n",
       "      <td>875564.0</td>\n",
       "      <td>...</td>\n",
       "      <td>21322</td>\n",
       "      <td>26</td>\n",
       "      <td>2594</td>\n",
       "      <td>3489</td>\n",
       "      <td>5315</td>\n",
       "      <td>27</td>\n",
       "      <td>62</td>\n",
       "      <td>23</td>\n",
       "      <td>852</td>\n",
       "      <td>239</td>\n",
       "    </tr>\n",
       "    <tr>\n",
       "      <th>1</th>\n",
       "      <td>2015-16</td>\n",
       "      <td>1</td>\n",
       "      <td>102</td>\n",
       "      <td>JAMMU &amp; KASHMIR</td>\n",
       "      <td>BARAMULA</td>\n",
       "      <td>1</td>\n",
       "      <td>18</td>\n",
       "      <td>678</td>\n",
       "      <td>144</td>\n",
       "      <td>1015503.0</td>\n",
       "      <td>...</td>\n",
       "      <td>17307</td>\n",
       "      <td>0</td>\n",
       "      <td>1571</td>\n",
       "      <td>4127</td>\n",
       "      <td>5800</td>\n",
       "      <td>210</td>\n",
       "      <td>53</td>\n",
       "      <td>30</td>\n",
       "      <td>1665</td>\n",
       "      <td>360</td>\n",
       "    </tr>\n",
       "    <tr>\n",
       "      <th>2</th>\n",
       "      <td>2015-16</td>\n",
       "      <td>1</td>\n",
       "      <td>103</td>\n",
       "      <td>JAMMU &amp; KASHMIR</td>\n",
       "      <td>SRINAGAR</td>\n",
       "      <td>1</td>\n",
       "      <td>8</td>\n",
       "      <td>94</td>\n",
       "      <td>65</td>\n",
       "      <td>1269751.0</td>\n",
       "      <td>...</td>\n",
       "      <td>5444</td>\n",
       "      <td>31</td>\n",
       "      <td>408</td>\n",
       "      <td>817</td>\n",
       "      <td>3284</td>\n",
       "      <td>886</td>\n",
       "      <td>11</td>\n",
       "      <td>0</td>\n",
       "      <td>2873</td>\n",
       "      <td>40</td>\n",
       "    </tr>\n",
       "    <tr>\n",
       "      <th>3</th>\n",
       "      <td>2015-16</td>\n",
       "      <td>1</td>\n",
       "      <td>104</td>\n",
       "      <td>JAMMU &amp; KASHMIR</td>\n",
       "      <td>BADGAM</td>\n",
       "      <td>1</td>\n",
       "      <td>13</td>\n",
       "      <td>523</td>\n",
       "      <td>104</td>\n",
       "      <td>735753.0</td>\n",
       "      <td>...</td>\n",
       "      <td>12469</td>\n",
       "      <td>18</td>\n",
       "      <td>857</td>\n",
       "      <td>2290</td>\n",
       "      <td>3837</td>\n",
       "      <td>119</td>\n",
       "      <td>45</td>\n",
       "      <td>8</td>\n",
       "      <td>1035</td>\n",
       "      <td>325</td>\n",
       "    </tr>\n",
       "    <tr>\n",
       "      <th>4</th>\n",
       "      <td>2015-16</td>\n",
       "      <td>1</td>\n",
       "      <td>105</td>\n",
       "      <td>JAMMU &amp; KASHMIR</td>\n",
       "      <td>PULWAMA</td>\n",
       "      <td>1</td>\n",
       "      <td>8</td>\n",
       "      <td>359</td>\n",
       "      <td>64</td>\n",
       "      <td>570060.0</td>\n",
       "      <td>...</td>\n",
       "      <td>7408</td>\n",
       "      <td>17</td>\n",
       "      <td>855</td>\n",
       "      <td>1688</td>\n",
       "      <td>2584</td>\n",
       "      <td>151</td>\n",
       "      <td>67</td>\n",
       "      <td>5</td>\n",
       "      <td>1101</td>\n",
       "      <td>209</td>\n",
       "    </tr>\n",
       "  </tbody>\n",
       "</table>\n",
       "<p>5 rows × 819 columns</p>\n",
       "</div>"
      ],
      "text/plain": [
       "   AC_YEAR  STATCD  DISTCD         STATNAME  DISTNAME  DISTRICTS  BLOCKS  \\\n",
       "0  2015-16       1     101  JAMMU & KASHMIR   KUPWARA          1      13   \n",
       "1  2015-16       1     102  JAMMU & KASHMIR  BARAMULA          1      18   \n",
       "2  2015-16       1     103  JAMMU & KASHMIR  SRINAGAR          1       8   \n",
       "3  2015-16       1     104  JAMMU & KASHMIR    BADGAM          1      13   \n",
       "4  2015-16       1     105  JAMMU & KASHMIR   PULWAMA          1       8   \n",
       "\n",
       "   VILLAGES  CLUSTERS  TOTPOPULAT  ...  UUNI_ALL  UUNI_SC  UUNI_ST  TOTCLS1G  \\\n",
       "0       391       104    875564.0  ...     21322       26     2594      3489   \n",
       "1       678       144   1015503.0  ...     17307        0     1571      4127   \n",
       "2        94        65   1269751.0  ...      5444       31      408       817   \n",
       "3       523       104    735753.0  ...     12469       18      857      2290   \n",
       "4       359        64    570060.0  ...      7408       17      855      1688   \n",
       "\n",
       "   TOTCLS2G  TOTCLS3G  TOTCLS4G  TOTCLS5G  TOTCLS6G  TOTCLS7G  \n",
       "0      5315        27        62        23       852       239  \n",
       "1      5800       210        53        30      1665       360  \n",
       "2      3284       886        11         0      2873        40  \n",
       "3      3837       119        45         8      1035       325  \n",
       "4      2584       151        67         5      1101       209  \n",
       "\n",
       "[5 rows x 819 columns]"
      ]
     },
     "execution_count": 6,
     "metadata": {},
     "output_type": "execute_result"
    }
   ],
   "source": [
    "#Read the first few rows of the dataframe\n",
    "df.head()"
   ]
  },
  {
   "cell_type": "code",
   "execution_count": null,
   "metadata": {},
   "outputs": [],
   "source": [
    "#Read the last few rows of the dataframe\n",
    "df.tail()"
   ]
  },
  {
   "cell_type": "code",
   "execution_count": null,
   "metadata": {},
   "outputs": [],
   "source": [
    "#Shape api will list the number of rows and columns\n",
    "df.shape"
   ]
  },
  {
   "cell_type": "code",
   "execution_count": null,
   "metadata": {},
   "outputs": [],
   "source": [
    "#Print the data-types of different column\n",
    "df.dtypes"
   ]
  },
  {
   "cell_type": "code",
   "execution_count": null,
   "metadata": {},
   "outputs": [],
   "source": [
    "#Print the data-type of a particular column\n",
    "print(df.dtypes['STATNAME'])"
   ]
  },
  {
   "cell_type": "code",
   "execution_count": null,
   "metadata": {},
   "outputs": [],
   "source": [
    "#List the columns in the table\n",
    "list(df.columns)"
   ]
  },
  {
   "cell_type": "code",
   "execution_count": null,
   "metadata": {},
   "outputs": [],
   "source": [
    "df.info()"
   ]
  },
  {
   "cell_type": "code",
   "execution_count": null,
   "metadata": {},
   "outputs": [],
   "source": [
    "#Extract only a particular column from the dataframe using column name\n",
    "df_districts = df['DISTNAME']\n",
    "print(df_districts)"
   ]
  },
  {
   "cell_type": "code",
   "execution_count": null,
   "metadata": {},
   "outputs": [],
   "source": [
    "#Extract first column from the dataframe using iloc\n",
    "#The iloc indexer syntax is data.iloc[<row selection>, <column selection>]\n",
    "df_row0 = df.iloc[:,0] # first column of data frame\n",
    "print(df_row0)"
   ]
  },
  {
   "cell_type": "code",
   "execution_count": null,
   "metadata": {},
   "outputs": [],
   "source": [
    "#Extract last column from the dataframe using iloc\n",
    "df_last_row = df.iloc[:,-1] # first column of data frame\n",
    "print(df_last_row)"
   ]
  },
  {
   "cell_type": "code",
   "execution_count": null,
   "metadata": {},
   "outputs": [],
   "source": [
    "#Extract second row from the dataframe\n",
    "df_row2 = df.iloc[1]\n",
    "print(df_row1)"
   ]
  },
  {
   "cell_type": "code",
   "execution_count": null,
   "metadata": {},
   "outputs": [],
   "source": [
    "#Extract first five rows of the dataframe\n",
    "df_five_rows = df.iloc[1:5]\n",
    "print(df_five_rows)"
   ]
  },
  {
   "cell_type": "code",
   "execution_count": null,
   "metadata": {},
   "outputs": [],
   "source": [
    "#Extract first five rows and five columns of the dataframe\n",
    "df_five_rows_columns = df.iloc[1:5, 1:5]\n",
    "print(df_five_rows_columns)"
   ]
  },
  {
   "cell_type": "code",
   "execution_count": null,
   "metadata": {},
   "outputs": [],
   "source": [
    "#Extract first five rows and selective columns of the dataframe\n",
    "df_five_rows_columns = df.iloc[1:5, [1,4,5]]\n",
    "print(df_five_rows_columns)"
   ]
  },
  {
   "cell_type": "code",
   "execution_count": null,
   "metadata": {},
   "outputs": [],
   "source": [
    "#Convert dataframe into multi-dimesional array\n",
    "df.iloc[1:5,1:].values"
   ]
  },
  {
   "cell_type": "code",
   "execution_count": null,
   "metadata": {},
   "outputs": [],
   "source": [
    "#Count the number of rows particular value occurs inte the data-frame\n",
    "df['STATNAME'].value_counts()"
   ]
  },
  {
   "cell_type": "code",
   "execution_count": null,
   "metadata": {},
   "outputs": [],
   "source": [
    "#Select rows which has number of villages > 1500\n",
    "df[df['VILLAGES'] > 1500]"
   ]
  },
  {
   "cell_type": "code",
   "execution_count": null,
   "metadata": {},
   "outputs": [],
   "source": [
    "#Install lxml to parse html tables\n",
    "#!type python\n",
    "#!type -a pip\n",
    "#!pip3 install lxml"
   ]
  },
  {
   "cell_type": "code",
   "execution_count": null,
   "metadata": {},
   "outputs": [],
   "source": [
    "#Read cisco share price history table from wikipedia URL\n",
    "\n",
    "#lxml is needed by read_html api, hence need to import it\n",
    "import lxml\n",
    "\n",
    "#URL for wikipedia link\n",
    "url_cisco = 'https://en.wikipedia.org/wiki/Cisco_Systems'\n",
    "\n",
    "#pandas.read_html table reads all the tables in URL specified\n",
    "#which has match-string specified by match\n",
    "#If there are multiple table, it will be read into a list of data-frames\n",
    "df_cisco = pd.read_html(url_cisco, match='Employees', header=0)"
   ]
  },
  {
   "cell_type": "code",
   "execution_count": null,
   "metadata": {},
   "outputs": [],
   "source": [
    "#Since read_html returns list of data-frames\n",
    "#Get the first table into a data-frame\n",
    "df_cisco_history = df_cisco[0]"
   ]
  },
  {
   "cell_type": "code",
   "execution_count": null,
   "metadata": {},
   "outputs": [],
   "source": [
    "#print first five rows\n",
    "df_cisco_history.head()"
   ]
  },
  {
   "cell_type": "code",
   "execution_count": null,
   "metadata": {},
   "outputs": [],
   "source": [
    "#print yearwise cisco share-price\n",
    "df_cisco_history.iloc[:,[0,4]]"
   ]
  },
  {
   "cell_type": "code",
   "execution_count": 3,
   "metadata": {},
   "outputs": [
    {
     "data": {
      "text/html": [
       "<div>\n",
       "<style scoped>\n",
       "    .dataframe tbody tr th:only-of-type {\n",
       "        vertical-align: middle;\n",
       "    }\n",
       "\n",
       "    .dataframe tbody tr th {\n",
       "        vertical-align: top;\n",
       "    }\n",
       "\n",
       "    .dataframe thead th {\n",
       "        text-align: right;\n",
       "    }\n",
       "</style>\n",
       "<table border=\"1\" class=\"dataframe\">\n",
       "  <thead>\n",
       "    <tr style=\"text-align: right;\">\n",
       "      <th></th>\n",
       "      <th>Date</th>\n",
       "      <th>Open</th>\n",
       "      <th>High</th>\n",
       "      <th>Low</th>\n",
       "      <th>Close*</th>\n",
       "      <th>Adj Close**</th>\n",
       "      <th>Volume</th>\n",
       "    </tr>\n",
       "  </thead>\n",
       "  <tbody>\n",
       "    <tr>\n",
       "      <th>0</th>\n",
       "      <td>Feb 27, 2020</td>\n",
       "      <td>41.28</td>\n",
       "      <td>42.10</td>\n",
       "      <td>40.01</td>\n",
       "      <td>40.04</td>\n",
       "      <td>40.04</td>\n",
       "      <td>51423000</td>\n",
       "    </tr>\n",
       "    <tr>\n",
       "      <th>1</th>\n",
       "      <td>Feb 26, 2020</td>\n",
       "      <td>42.97</td>\n",
       "      <td>43.38</td>\n",
       "      <td>41.94</td>\n",
       "      <td>42.16</td>\n",
       "      <td>42.16</td>\n",
       "      <td>38513200</td>\n",
       "    </tr>\n",
       "    <tr>\n",
       "      <th>2</th>\n",
       "      <td>Feb 25, 2020</td>\n",
       "      <td>44.05</td>\n",
       "      <td>44.21</td>\n",
       "      <td>42.07</td>\n",
       "      <td>42.74</td>\n",
       "      <td>42.74</td>\n",
       "      <td>48024700</td>\n",
       "    </tr>\n",
       "    <tr>\n",
       "      <th>3</th>\n",
       "      <td>Feb 24, 2020</td>\n",
       "      <td>45.00</td>\n",
       "      <td>45.68</td>\n",
       "      <td>44.00</td>\n",
       "      <td>44.00</td>\n",
       "      <td>44.00</td>\n",
       "      <td>35295900</td>\n",
       "    </tr>\n",
       "    <tr>\n",
       "      <th>4</th>\n",
       "      <td>Feb 21, 2020</td>\n",
       "      <td>46.73</td>\n",
       "      <td>46.85</td>\n",
       "      <td>46.05</td>\n",
       "      <td>46.30</td>\n",
       "      <td>46.30</td>\n",
       "      <td>20028700</td>\n",
       "    </tr>\n",
       "  </tbody>\n",
       "</table>\n",
       "</div>"
      ],
      "text/plain": [
       "           Date   Open   High    Low Close* Adj Close**    Volume\n",
       "0  Feb 27, 2020  41.28  42.10  40.01  40.04       40.04  51423000\n",
       "1  Feb 26, 2020  42.97  43.38  41.94  42.16       42.16  38513200\n",
       "2  Feb 25, 2020  44.05  44.21  42.07  42.74       42.74  48024700\n",
       "3  Feb 24, 2020  45.00  45.68  44.00  44.00       44.00  35295900\n",
       "4  Feb 21, 2020  46.73  46.85  46.05  46.30       46.30  20028700"
      ]
     },
     "execution_count": 3,
     "metadata": {},
     "output_type": "execute_result"
    }
   ],
   "source": [
    "#URL for wikipedia link\n",
    "url_cisco = 'https://finance.yahoo.com/quote/CSCO/history?period1=1425081600&period2=1582848000&interval=1d&filter=history&frequency=1d'\n",
    "df_cisco_daily = pd.read_html(url_cisco, match='Volume', header=0)\n",
    "df_cisco_daily[0].head()"
   ]
  },
  {
   "cell_type": "code",
   "execution_count": null,
   "metadata": {},
   "outputs": [],
   "source": []
  }
 ],
 "metadata": {
  "kernelspec": {
   "display_name": "Python 3",
   "language": "python",
   "name": "python3"
  },
  "language_info": {
   "codemirror_mode": {
    "name": "ipython",
    "version": 3
   },
   "file_extension": ".py",
   "mimetype": "text/x-python",
   "name": "python",
   "nbconvert_exporter": "python",
   "pygments_lexer": "ipython3",
   "version": "3.7.0"
  }
 },
 "nbformat": 4,
 "nbformat_minor": 4
}
